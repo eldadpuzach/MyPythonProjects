{
 "cells": [
  {
   "cell_type": "code",
   "execution_count": null,
   "metadata": {
    "collapsed": true
   },
   "outputs": [],
   "source": [
    "### Converting txt file to csv file.\n",
    "\n",
    "# open and read the txt file.\n",
    "text_file = open(\"Name_of_File.txt\", \"r\")\n",
    "\n",
    "# Read each line of text file and save it in lines. \n",
    "lines = text_file.readlines()\n",
    "\n",
    "# print lines\n",
    "print len(lines)\n",
    "text_file.close()\n",
    "\n",
    "# Call CSV Library\n",
    "import csv\n",
    "\n",
    "# Make a csv file.\n",
    "mycsv = csv.writer(open('OutPut.csv', 'wb'))\n",
    "\n",
    "# Write header for csv file.\n",
    "mycsv.writerow(['year', 'month', 'date', 'hour', 'minute', 'second'])\n",
    "\n",
    "\n",
    "# This is a function that works in this way that:\n",
    "# Text file is reading each line and find where it has \"2016\"\n",
    "# Then it is finding other parameters for that date. \n",
    "# Spliting Date as year, month, day and other parameteres. \n",
    "n = 0\n",
    "for line in lines: \n",
    "    n = n + 1\n",
    "n = 0\n",
    "for line in lines: \n",
    "    n = n + 1\n",
    "    if \"2016\" in line:\n",
    "        if \"[\" in line:\n",
    "            date_time = line.split(\"[\")[0]\n",
    "            year = date_time.split(\" \")[0]\n",
    "            month = date_time.split(\" \")[1]\n",
    "            day = date_time.split(\"  \")[1]\n",
    "            time = date_time.split(\"  \")[2]\n",
    "            hour = time.split(\":\")[0]\n",
    "            minute = time.split(\":\")[1]\n",
    "            second = time.split(\":\")[2]            \n",
    "\n",
    "# At the end we save all information for that specific date and then going for other date.             \n",
    "        mycsv.writerow([year, month, day, hour, minute, second])\n",
    "\n",
    "\n",
    "\n",
    "\n",
    "\n"
   ]
  }
 ],
 "metadata": {
  "kernelspec": {
   "display_name": "Python [Root]",
   "language": "python",
   "name": "Python [Root]"
  },
  "language_info": {
   "codemirror_mode": {
    "name": "ipython",
    "version": 2
   },
   "file_extension": ".py",
   "mimetype": "text/x-python",
   "name": "python",
   "nbconvert_exporter": "python",
   "pygments_lexer": "ipython2",
   "version": "2.7.12"
  }
 },
 "nbformat": 4,
 "nbformat_minor": 0
}
